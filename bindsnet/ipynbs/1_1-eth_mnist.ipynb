##### aimldl > bindsnet > ipynbs > 1_1-eth_mnist.ipynb

cd examples/mnist
python eth_mnist.py

To run a near-replication of the SNN from this paper,

pdf "Unsupervised learning of digit recognition using spike-timing-dependent plasticity"


Purpose
1. Understand how eth_mnist.py works internally.
2. Understand how Spiking Neural Networks (SNNs) work.
